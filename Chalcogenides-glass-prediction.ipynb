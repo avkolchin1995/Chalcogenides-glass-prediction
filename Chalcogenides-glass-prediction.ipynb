{
 "cells": [
  {
   "cell_type": "markdown",
   "id": "b761114a",
   "metadata": {},
   "source": [
    "Применение и последующее сравнение различных методов машинного обучения в задаче предсказания температуры плавления халькогенидных стекол в зависимости от их элементного состава"
   ]
  },
  {
   "cell_type": "code",
   "execution_count": 3,
   "id": "880bfc25",
   "metadata": {},
   "outputs": [],
   "source": [
    "# Объявляю нужные библиотеки\n",
    "import pandas as pd #Библиотека для работы с фреймворками"
   ]
  },
  {
   "cell_type": "markdown",
   "id": "1be30e48",
   "metadata": {},
   "source": [
    "Работа с исходными данными. В качестве объекта выступает температура плавления халькогенидных стекол. Признаками же является содержание тех или иных атомов халькогенов"
   ]
  },
  {
   "cell_type": "code",
   "execution_count": null,
   "id": "6d3b2a99",
   "metadata": {},
   "outputs": [],
   "source": [
    "# Загрузка датасета из csv-файла\n",
    "\n"
   ]
  }
 ],
 "metadata": {
  "kernelspec": {
   "display_name": "myenv",
   "language": "python",
   "name": "python3"
  },
  "language_info": {
   "codemirror_mode": {
    "name": "ipython",
    "version": 3
   },
   "file_extension": ".py",
   "mimetype": "text/x-python",
   "name": "python",
   "nbconvert_exporter": "python",
   "pygments_lexer": "ipython3",
   "version": "3.12.3"
  }
 },
 "nbformat": 4,
 "nbformat_minor": 5
}
