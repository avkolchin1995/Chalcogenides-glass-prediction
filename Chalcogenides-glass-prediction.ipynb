{
 "cells": [
  {
   "cell_type": "markdown",
   "id": "b761114a",
   "metadata": {},
   "source": [
    "Применение и последующее сравнение различных методов машинного обучения в задаче предсказания температуры плавления халькогенидных стекол в зависимости от их элементного состава"
   ]
  },
  {
   "cell_type": "code",
   "execution_count": 27,
   "id": "880bfc25",
   "metadata": {},
   "outputs": [],
   "source": [
    "# Объявляю нужные библиотеки\n",
    "import pandas as pd #Библиотека для работы с фреймворками\n",
    "import numpy as np #Библиотека для математических операций"
   ]
  },
  {
   "cell_type": "markdown",
   "id": "1be30e48",
   "metadata": {},
   "source": [
    "Работа с исходными данными, взятыми из научной статьи *S. Singla et al. (2023)* [<u>https://doi.org/10.1088/2515-7639/acc6f2</u> ; <u>https://github.com/M3RG-IITD/chgs-ai</u>]. В качестве объекта выступает температура плавления халькогенидных стекол. Признаками же является молярное содержание тех или иных атомов халькогенов."
   ]
  },
  {
   "cell_type": "code",
   "execution_count": null,
   "id": "6d3b2a99",
   "metadata": {},
   "outputs": [],
   "source": [
    "# Загрузка датасета из csv-файла\n",
    "df = pd.read_csv('TG.csv', sep=',')\n",
    "# Выделение из датасета объектов и признаков\n",
    "X_data = df.iloc[:,:-1].to_numpy() # Выделение признаков в отдельный массив\n",
    "Y_data = df['TG'].to_numpy() # Выделение объектов в отдельный массив"
   ]
  }
 ],
 "metadata": {
  "kernelspec": {
   "display_name": "myenv",
   "language": "python",
   "name": "python3"
  },
  "language_info": {
   "codemirror_mode": {
    "name": "ipython",
    "version": 3
   },
   "file_extension": ".py",
   "mimetype": "text/x-python",
   "name": "python",
   "nbconvert_exporter": "python",
   "pygments_lexer": "ipython3",
   "version": "3.12.3"
  }
 },
 "nbformat": 4,
 "nbformat_minor": 5
}
