{
 "cells": [
  {
   "cell_type": "markdown",
   "id": "b761114a",
   "metadata": {},
   "source": [
    "Применение и последующее сравнение различных методов машинного обучения в задаче предсказания температуры плавления халькогенидных стекол в зависимости от их элементного состава"
   ]
  },
  {
   "cell_type": "code",
   "execution_count": 37,
   "id": "880bfc25",
   "metadata": {},
   "outputs": [],
   "source": [
    "# Объявляю нужные библиотеки\n",
    "import pandas as pd # Библиотека для работы с фреймворками\n",
    "import numpy as np # Библиотека для математических операций\n",
    "from sklearn.model_selection import train_test_split # "
   ]
  },
  {
   "cell_type": "markdown",
   "id": "1be30e48",
   "metadata": {},
   "source": [
    "Работа с исходными данными, взятыми из научной статьи *S. Singla et al. (2023)* [<u>https://doi.org/10.1088/2515-7639/acc6f2</u> ; <u>https://github.com/M3RG-IITD/chgs-ai</u>]. В качестве объекта выступает температура плавления халькогенидных стекол. Признаками же является молярное содержание тех или иных атомов халькогенов."
   ]
  },
  {
   "cell_type": "code",
   "execution_count": null,
   "id": "6d3b2a99",
   "metadata": {},
   "outputs": [],
   "source": [
    "# Загрузка датасета из csv-файла\n",
    "df = pd.read_csv('TG.csv', sep=',')"
   ]
  },
  {
   "cell_type": "code",
   "execution_count": null,
   "id": "e4600373",
   "metadata": {},
   "outputs": [],
   "source": [
    "# Выделение из датасета объектов и признаков\n",
    "X_data = df.iloc[:,:-1].to_numpy() # Выделение признаков в отдельный\n",
    "Y_data = df['TG'].to_numpy() # Выделение объектов в отдельный массив"
   ]
  },
  {
   "cell_type": "code",
   "execution_count": 40,
   "id": "7a8f3ae9",
   "metadata": {},
   "outputs": [],
   "source": [
    "# Разделение данных на тренировочную и тестовую выборки\n",
    "X_train, X_test, Y_train, Y_test = train_test_split(X_data, Y_data, test_size=0.3, shuffle=True, random_state=18) # Разделение происходит случайным образом"
   ]
  }
 ],
 "metadata": {
  "kernelspec": {
   "display_name": "myenv",
   "language": "python",
   "name": "python3"
  },
  "language_info": {
   "codemirror_mode": {
    "name": "ipython",
    "version": 3
   },
   "file_extension": ".py",
   "mimetype": "text/x-python",
   "name": "python",
   "nbconvert_exporter": "python",
   "pygments_lexer": "ipython3",
   "version": "3.12.3"
  }
 },
 "nbformat": 4,
 "nbformat_minor": 5
}
