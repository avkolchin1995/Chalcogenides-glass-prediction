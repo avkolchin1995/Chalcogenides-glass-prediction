{
 "cells": [
  {
   "cell_type": "markdown",
   "id": "b761114a",
   "metadata": {},
   "source": [
    "Применение и последующее сравнение различных методов машинного обучения в задаче предсказания температуры плавления халькогенидных стекол в зависимости от их элементного состава"
   ]
  },
  {
   "cell_type": "code",
   "execution_count": 17,
   "id": "880bfc25",
   "metadata": {},
   "outputs": [],
   "source": [
    "# Объявляю нужные библиотеки\n",
    "import pandas as pd #Библиотека для работы с фреймворками\n",
    "import numpy as np #Библиотека для математических операций"
   ]
  },
  {
   "cell_type": "markdown",
   "id": "1be30e48",
   "metadata": {},
   "source": [
    "Работа с исходными данными, взятыми из научной статьи *S. Singla et al. (2023)* [<u>https://doi.org/10.1088/2515-7639/acc6f2</u> ; <u>https://github.com/M3RG-IITD/chgs-ai</u>]. В качестве объекта выступает температура плавления халькогенидных стекол. Признаками же является молярное содержание тех или иных атомов халькогенов."
   ]
  },
  {
   "cell_type": "code",
   "execution_count": null,
   "id": "6d3b2a99",
   "metadata": {},
   "outputs": [
    {
     "ename": "SyntaxError",
     "evalue": "invalid syntax (3148333118.py, line 4)",
     "output_type": "error",
     "traceback": [
      "  \u001b[36mCell\u001b[39m\u001b[36m \u001b[39m\u001b[32mIn[18]\u001b[39m\u001b[32m, line 4\u001b[39m\n\u001b[31m    \u001b[39m\u001b[31mY_data =\u001b[39m\n             ^\n\u001b[31mSyntaxError\u001b[39m\u001b[31m:\u001b[39m invalid syntax\n"
     ]
    }
   ],
   "source": [
    "# Загрузка датасета из csv-файла\n",
    "df = pd.read_csv('TG.csv', sep=',')\n",
    "# Выделение из датасета объектов и признаков\n",
    "Y_data = df[].to_numpy"
   ]
  }
 ],
 "metadata": {
  "kernelspec": {
   "display_name": "myenv",
   "language": "python",
   "name": "python3"
  },
  "language_info": {
   "codemirror_mode": {
    "name": "ipython",
    "version": 3
   },
   "file_extension": ".py",
   "mimetype": "text/x-python",
   "name": "python",
   "nbconvert_exporter": "python",
   "pygments_lexer": "ipython3",
   "version": "3.12.3"
  }
 },
 "nbformat": 4,
 "nbformat_minor": 5
}
