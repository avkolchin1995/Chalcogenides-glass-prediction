{
 "cells": [
  {
   "cell_type": "markdown",
   "id": "b761114a",
   "metadata": {},
   "source": [
    "Применение и последующее сравнение различных методов машинного обучения в задаче предсказания температуры плавления халькогенидных стекол в зависимости от их элементного состава"
   ]
  },
  {
   "cell_type": "code",
   "execution_count": 2,
   "id": "880bfc25",
   "metadata": {},
   "outputs": [],
   "source": [
    "# Объявляю нужные библиотеки\n",
    "import pandas as pd #Библиотека для работы с фреймворками"
   ]
  }
 ],
 "metadata": {
  "kernelspec": {
   "display_name": "myenv",
   "language": "python",
   "name": "python3"
  },
  "language_info": {
   "codemirror_mode": {
    "name": "ipython",
    "version": 3
   },
   "file_extension": ".py",
   "mimetype": "text/x-python",
   "name": "python",
   "nbconvert_exporter": "python",
   "pygments_lexer": "ipython3",
   "version": "3.12.3"
  }
 },
 "nbformat": 4,
 "nbformat_minor": 5
}
